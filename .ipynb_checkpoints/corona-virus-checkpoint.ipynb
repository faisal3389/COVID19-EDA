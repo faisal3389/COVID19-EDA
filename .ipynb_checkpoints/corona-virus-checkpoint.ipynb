{
 "cells": [
  {
   "cell_type": "code",
   "execution_count": 3,
   "metadata": {},
   "outputs": [],
   "source": [
    "import pandas as pd\n",
    "df = pd.read_csv(\"COVID-19/covid_19_data.csv\")"
   ]
  },
  {
   "cell_type": "code",
   "execution_count": 4,
   "metadata": {},
   "outputs": [
    {
     "data": {
      "text/html": [
       "<div>\n",
       "<style scoped>\n",
       "    .dataframe tbody tr th:only-of-type {\n",
       "        vertical-align: middle;\n",
       "    }\n",
       "\n",
       "    .dataframe tbody tr th {\n",
       "        vertical-align: top;\n",
       "    }\n",
       "\n",
       "    .dataframe thead th {\n",
       "        text-align: right;\n",
       "    }\n",
       "</style>\n",
       "<table border=\"1\" class=\"dataframe\">\n",
       "  <thead>\n",
       "    <tr style=\"text-align: right;\">\n",
       "      <th></th>\n",
       "      <th>SNo</th>\n",
       "      <th>ObservationDate</th>\n",
       "      <th>Province/State</th>\n",
       "      <th>Country/Region</th>\n",
       "      <th>Last Update</th>\n",
       "      <th>Confirmed</th>\n",
       "      <th>Deaths</th>\n",
       "      <th>Recovered</th>\n",
       "    </tr>\n",
       "  </thead>\n",
       "  <tbody>\n",
       "    <tr>\n",
       "      <th>0</th>\n",
       "      <td>1</td>\n",
       "      <td>01/22/2020</td>\n",
       "      <td>Anhui</td>\n",
       "      <td>Mainland China</td>\n",
       "      <td>1/22/2020 17:00</td>\n",
       "      <td>1</td>\n",
       "      <td>0</td>\n",
       "      <td>0</td>\n",
       "    </tr>\n",
       "    <tr>\n",
       "      <th>1</th>\n",
       "      <td>2</td>\n",
       "      <td>01/22/2020</td>\n",
       "      <td>Beijing</td>\n",
       "      <td>Mainland China</td>\n",
       "      <td>1/22/2020 17:00</td>\n",
       "      <td>14</td>\n",
       "      <td>0</td>\n",
       "      <td>0</td>\n",
       "    </tr>\n",
       "    <tr>\n",
       "      <th>2</th>\n",
       "      <td>3</td>\n",
       "      <td>01/22/2020</td>\n",
       "      <td>Chongqing</td>\n",
       "      <td>Mainland China</td>\n",
       "      <td>1/22/2020 17:00</td>\n",
       "      <td>6</td>\n",
       "      <td>0</td>\n",
       "      <td>0</td>\n",
       "    </tr>\n",
       "    <tr>\n",
       "      <th>3</th>\n",
       "      <td>4</td>\n",
       "      <td>01/22/2020</td>\n",
       "      <td>Fujian</td>\n",
       "      <td>Mainland China</td>\n",
       "      <td>1/22/2020 17:00</td>\n",
       "      <td>1</td>\n",
       "      <td>0</td>\n",
       "      <td>0</td>\n",
       "    </tr>\n",
       "    <tr>\n",
       "      <th>4</th>\n",
       "      <td>5</td>\n",
       "      <td>01/22/2020</td>\n",
       "      <td>Gansu</td>\n",
       "      <td>Mainland China</td>\n",
       "      <td>1/22/2020 17:00</td>\n",
       "      <td>0</td>\n",
       "      <td>0</td>\n",
       "      <td>0</td>\n",
       "    </tr>\n",
       "  </tbody>\n",
       "</table>\n",
       "</div>"
      ],
      "text/plain": [
       "   SNo ObservationDate Province/State  Country/Region      Last Update  \\\n",
       "0    1      01/22/2020          Anhui  Mainland China  1/22/2020 17:00   \n",
       "1    2      01/22/2020        Beijing  Mainland China  1/22/2020 17:00   \n",
       "2    3      01/22/2020      Chongqing  Mainland China  1/22/2020 17:00   \n",
       "3    4      01/22/2020         Fujian  Mainland China  1/22/2020 17:00   \n",
       "4    5      01/22/2020          Gansu  Mainland China  1/22/2020 17:00   \n",
       "\n",
       "   Confirmed  Deaths  Recovered  \n",
       "0          1       0          0  \n",
       "1         14       0          0  \n",
       "2          6       0          0  \n",
       "3          1       0          0  \n",
       "4          0       0          0  "
      ]
     },
     "execution_count": 4,
     "metadata": {},
     "output_type": "execute_result"
    }
   ],
   "source": [
    "df.head()"
   ]
  },
  {
   "cell_type": "code",
   "execution_count": 5,
   "metadata": {},
   "outputs": [
    {
     "name": "stdout",
     "output_type": "stream",
     "text": [
      "Mean:  577.6145896656535\n",
      "Standard Deviation:  4971.492694417894\n"
     ]
    }
   ],
   "source": [
    "print(\"Mean: \", df['Confirmed'].mean())\n",
    "print(\"Standard Deviation: \", df['Confirmed'].std())"
   ]
  },
  {
   "cell_type": "code",
   "execution_count": 6,
   "metadata": {},
   "outputs": [
    {
     "data": {
      "text/plain": [
       "<matplotlib.axes._subplots.AxesSubplot at 0x12594acf8>"
      ]
     },
     "execution_count": 6,
     "metadata": {},
     "output_type": "execute_result"
    },
    {
     "data": {
      "image/png": "[encoded data removed]",
      "text/plain": [
       "<Figure size 432x288 with 1 Axes>"
      ]
     },
     "metadata": {},
     "output_type": "display_data"
    }
   ],
   "source": [
    "import seaborn as sns \n",
    "import matplotlib.pyplot as plt\n",
    "sns.set()\n",
    "plt.title(\"Confimed Cases Histogram\")\n",
    "df['Confirmed'].hist(bins = 10)"
   ]
  },
  {
   "cell_type": "code",
   "execution_count": 7,
   "metadata": {},
   "outputs": [
    {
     "name": "stdout",
     "output_type": "stream",
     "text": [
      "Mean:  201.01155015197568\n",
      "Standard Deviation:  2179.7985200076755\n"
     ]
    }
   ],
   "source": [
    "print(\"Mean: \", df['Recovered'].mean())\n",
    "print(\"Standard Deviation: \", df['Recovered'].std())"
   ]
  },
  {
   "cell_type": "code",
   "execution_count": 10,
   "metadata": {},
   "outputs": [
    {
     "data": {
      "text/plain": [
       "<matplotlib.axes._subplots.AxesSubplot at 0x127f9f9b0>"
      ]
     },
     "execution_count": 10,
     "metadata": {},
     "output_type": "execute_result"
    },
    {
     "data": {
      "image/png": "[encoded data removed]",
      "text/plain": [
       "<Figure size 432x288 with 1 Axes>"
      ]
     },
     "metadata": {},
     "output_type": "display_data"
    }
   ],
   "source": [
    "plt.title(\"Recovered Cases Histogram\")\n",
    "sns.set()\n",
    "df['Recovered'].hist(bins = 200)"
   ]
  },
  {
   "cell_type": "code",
   "execution_count": 12,
   "metadata": {},
   "outputs": [
    {
     "data": {
      "text/plain": [
       "Counter({'Anhui': 50,\n",
       "         'Beijing': 50,\n",
       "         'Chongqing': 50,\n",
       "         'Fujian': 50,\n",
       "         'Gansu': 51,\n",
       "         'Guangdong': 50,\n",
       "         'Guangxi': 50,\n",
       "         'Guizhou': 50,\n",
       "         'Hainan': 50,\n",
       "         'Hebei': 51,\n",
       "         'Heilongjiang': 50,\n",
       "         'Henan': 50,\n",
       "         'Hong Kong': 50,\n",
       "         'Hubei': 50,\n",
       "         'Hunan': 50,\n",
       "         'Inner Mongolia': 50,\n",
       "         'Jiangsu': 50,\n",
       "         'Jiangxi': 50,\n",
       "         'Jilin': 50,\n",
       "         'Liaoning': 50,\n",
       "         'Macau': 50,\n",
       "         'Ningxia': 50,\n",
       "         'Qinghai': 50,\n",
       "         'Shaanxi': 50,\n",
       "         'Shandong': 50,\n",
       "         'Shanghai': 50,\n",
       "         'Shanxi': 50,\n",
       "         'Sichuan': 50,\n",
       "         'Taiwan': 49,\n",
       "         'Tianjin': 50,\n",
       "         'Tibet': 44,\n",
       "         'Washington': 12,\n",
       "         'Xinjiang': 50,\n",
       "         'Yunnan': 50,\n",
       "         'Zhejiang': 50,\n",
       "         nan: 1815,\n",
       "         'Chicago': 1,\n",
       "         'Illinois': 9,\n",
       "         'California': 8,\n",
       "         'Arizona': 8,\n",
       "         'Ontario': 12,\n",
       "         'New South Wales': 45,\n",
       "         'Victoria': 45,\n",
       "         'British Columbia': 44,\n",
       "         'Bavaria': 4,\n",
       "         'Queensland': 42,\n",
       "         'Chicago, IL': 30,\n",
       "         'South Australia': 40,\n",
       "         'Boston, MA': 34,\n",
       "         'Los Angeles, CA': 38,\n",
       "         'Orange, CA': 32,\n",
       "         'Santa Clara, CA': 35,\n",
       "         'Seattle, WA': 30,\n",
       "         'Tempe, AZ': 35,\n",
       "         'San Benito, CA': 36,\n",
       "         'Toronto, ON': 34,\n",
       "         'London, ON': 34,\n",
       "         'Madison, WI': 34,\n",
       "         'Cruise Ship': 2,\n",
       "         'Diamond Princess cruise ship': 36,\n",
       "         'San Diego County, CA': 28,\n",
       "         'San Antonio, TX': 26,\n",
       "         'Ashland, NE': 1,\n",
       "         'Travis, CA': 1,\n",
       "         'From Diamond Princess': 23,\n",
       "         'Lackland, TX': 1,\n",
       "         'None': 3,\n",
       "         'Humboldt County, CA': 18,\n",
       "         'Sacramento County, CA': 18,\n",
       "         'Omaha, NE (From Diamond Princess)': 17,\n",
       "         'Travis, CA (From Diamond Princess)': 17,\n",
       "         'Lackland, TX (From Diamond Princess)': 17,\n",
       "         'Unassigned Location (From Diamond Princess)': 15,\n",
       "         ' Montreal, QC': 10,\n",
       "         'Western Australia': 12,\n",
       "         'Portland, OR': 3,\n",
       "         'Snohomish County, WA': 10,\n",
       "         'Providence, RI': 6,\n",
       "         'King County, WA': 8,\n",
       "         'Cook County, IL': 8,\n",
       "         'Tasmania': 10,\n",
       "         'Grafton County, NH': 8,\n",
       "         'Hillsborough, FL': 8,\n",
       "         'New York City, NY': 4,\n",
       "         'Placer County, CA': 8,\n",
       "         'San Mateo, CA': 8,\n",
       "         'Sarasota, FL': 8,\n",
       "         'Sonoma County, CA': 8,\n",
       "         'Umatilla, OR': 8,\n",
       "         'Fulton County, GA': 7,\n",
       "         'Washington County, OR': 7,\n",
       "         ' Norfolk County, MA': 5,\n",
       "         'Berkeley, CA': 4,\n",
       "         'Maricopa County, AZ': 7,\n",
       "         'Wake County, NC': 7,\n",
       "         'Westchester County, NY': 7,\n",
       "         'Orange County, CA': 6,\n",
       "         'Northern Territory': 8,\n",
       "         'Contra Costa County, CA': 6,\n",
       "         'Bergen County, NJ': 5,\n",
       "         'Harris County, TX': 5,\n",
       "         'San Francisco County, CA': 5,\n",
       "         'Clark County, NV': 5,\n",
       "         'Fort Bend County, TX': 5,\n",
       "         'Grant County, WA': 5,\n",
       "         'Queens County, NY': 1,\n",
       "         'Santa Rosa County, FL': 5,\n",
       "         'Williamson County, TN': 5,\n",
       "         'New York County, NY': 4,\n",
       "         'Unassigned Location, WA': 4,\n",
       "         'Montgomery County, MD': 4,\n",
       "         'Suffolk County, MA': 4,\n",
       "         'Denver County, CO': 4,\n",
       "         'Summit County, CO': 4,\n",
       "         'Calgary, Alberta': 3,\n",
       "         'Chatham County, NC': 4,\n",
       "         'Delaware County, PA': 4,\n",
       "         'Douglas County, NE': 4,\n",
       "         'Fayette County, KY': 4,\n",
       "         'Floyd County, GA': 2,\n",
       "         'Marion County, IN': 4,\n",
       "         'Middlesex County, MA': 4,\n",
       "         'Nassau County, NY': 4,\n",
       "         'Norwell County, MA': 1,\n",
       "         'Ramsey County, MN': 4,\n",
       "         'Washoe County, NV': 4,\n",
       "         'Wayne County, PA': 4,\n",
       "         'Yolo County, CA': 4,\n",
       "         'Santa Clara County, CA': 3,\n",
       "         'Grand Princess Cruise Ship': 3,\n",
       "         'Douglas County, CO': 3,\n",
       "         'Providence County, RI': 3,\n",
       "         'Alameda County, CA': 3,\n",
       "         'Broward County, FL': 3,\n",
       "         'Fairfield County, CT': 3,\n",
       "         'Lee County, FL': 3,\n",
       "         'Pinal County, AZ': 3,\n",
       "         'Rockland County, NY': 3,\n",
       "         'Saratoga County, NY': 3,\n",
       "         'Edmonton, Alberta': 2,\n",
       "         'Charleston County, SC': 3,\n",
       "         'Clark County, WA': 3,\n",
       "         'Cobb County, GA': 3,\n",
       "         'Davis County, UT': 3,\n",
       "         'El Paso County, CO': 3,\n",
       "         'Honolulu County, HI': 3,\n",
       "         'Jackson County, OR ': 3,\n",
       "         'Jefferson County, WA': 3,\n",
       "         'Kershaw County, SC': 3,\n",
       "         'Klamath County, OR': 3,\n",
       "         'Madera County, CA': 3,\n",
       "         'Pierce County, WA': 3,\n",
       "         'Plymouth County, MA': 3,\n",
       "         'Santa Cruz County, CA': 1,\n",
       "         'Tulsa County, OK': 3,\n",
       "         'Montgomery County, TX': 3,\n",
       "         'Norfolk County, MA': 2,\n",
       "         'Montgomery County, PA': 2,\n",
       "         'Fairfax County, VA': 2,\n",
       "         'Rockingham County, NH': 2,\n",
       "         'Washington, D.C.': 2,\n",
       "         'Berkshire County, MA': 2,\n",
       "         'Davidson County, TN': 2,\n",
       "         'Douglas County, OR': 2,\n",
       "         'Fresno County, CA': 2,\n",
       "         'Harford County, MD': 2,\n",
       "         'Hendricks County, IN': 2,\n",
       "         'Hudson County, NJ': 2,\n",
       "         'Johnson County, KS': 2,\n",
       "         'Kittitas County, WA': 2,\n",
       "         'Manatee County, FL': 2,\n",
       "         'Marion County, OR': 2,\n",
       "         'Okaloosa County, FL': 2,\n",
       "         'Polk County, GA': 2,\n",
       "         'Riverside County, CA': 2,\n",
       "         'Shelby County, TN': 2,\n",
       "         'Spokane County, WA': 2,\n",
       "         'St. Louis County, MO': 2,\n",
       "         'Suffolk County, NY': 2,\n",
       "         'Ulster County, NY': 2,\n",
       "         'Unassigned Location, VT': 1,\n",
       "         'Unknown Location, MA': 2,\n",
       "         'Volusia County, FL': 2,\n",
       "         'Alberta': 3,\n",
       "         'Quebec': 3,\n",
       "         'Johnson County, IA': 1,\n",
       "         'Harrison County, KY': 1,\n",
       "         'Bennington County, VT': 1,\n",
       "         'Carver County, MN': 1,\n",
       "         'Charlotte County, FL': 1,\n",
       "         'Cherokee County, GA': 1,\n",
       "         'Collin County, TX': 1,\n",
       "         'Jefferson County, KY': 1,\n",
       "         'Jefferson Parish, LA': 1,\n",
       "         'Shasta County, CA': 1,\n",
       "         'Spartanburg County, SC': 1,\n",
       "         'New York': 2,\n",
       "         'Massachusetts': 2,\n",
       "         'Grand Princess': 2,\n",
       "         'Georgia': 2,\n",
       "         'Colorado': 2,\n",
       "         'Florida': 2,\n",
       "         'New Jersey': 2,\n",
       "         'Oregon': 2,\n",
       "         'Texas': 2,\n",
       "         'Pennsylvania': 2,\n",
       "         'Iowa': 2,\n",
       "         'Maryland': 2,\n",
       "         'North Carolina': 2,\n",
       "         'South Carolina': 2,\n",
       "         'Tennessee': 2,\n",
       "         'Virginia': 2,\n",
       "         'Indiana': 2,\n",
       "         'Kentucky': 2,\n",
       "         'District of Columbia': 2,\n",
       "         'Nevada': 2,\n",
       "         'New Hampshire': 2,\n",
       "         'Minnesota': 2,\n",
       "         'Nebraska': 2,\n",
       "         'Ohio': 2,\n",
       "         'Rhode Island': 2,\n",
       "         'Wisconsin': 2,\n",
       "         'Connecticut': 2,\n",
       "         'Hawaii': 2,\n",
       "         'Oklahoma': 2,\n",
       "         'Utah': 2,\n",
       "         'Kansas': 2,\n",
       "         'Louisiana': 2,\n",
       "         'Missouri': 2,\n",
       "         'Vermont': 2,\n",
       "         'Alaska': 2,\n",
       "         'Arkansas': 2,\n",
       "         'Delaware': 2,\n",
       "         'Idaho': 2,\n",
       "         'Maine': 2,\n",
       "         'Michigan': 2,\n",
       "         'Mississippi': 2,\n",
       "         'Montana': 2,\n",
       "         'New Mexico': 2,\n",
       "         'North Dakota': 2,\n",
       "         'South Dakota': 2,\n",
       "         'West Virginia': 2,\n",
       "         'Wyoming': 2,\n",
       "         'France': 1,\n",
       "         'UK': 1,\n",
       "         'Denmark': 1,\n",
       "         'Faroe Islands': 1,\n",
       "         'St Martin': 1,\n",
       "         'Channel Islands': 1,\n",
       "         'New Brunswick': 1,\n",
       "         'Saint Barthelemy': 1,\n",
       "         'Gibraltar': 1})"
      ]
     },
     "execution_count": 12,
     "metadata": {},
     "output_type": "execute_result"
    }
   ],
   "source": [
    "from collections import Counter\n",
    "Counter(df['Province/State'].values)"
   ]
  },
  {
   "cell_type": "code",
   "execution_count": 13,
   "metadata": {},
   "outputs": [
    {
     "name": "stdout",
     "output_type": "stream",
     "text": [
      "[('Gansu', 51), ('Hebei', 51), ('Anhui', 50), ('Beijing', 50), ('Chongqing', 50)]\n"
     ]
    }
   ],
   "source": [
    "df.dropna(inplace=True)\n",
    "print(Counter(df['Province/State'].values).most_common(5))"
   ]
  },
  {
   "cell_type": "code",
   "execution_count": 14,
   "metadata": {},
   "outputs": [
    {
     "data": {
      "image/png": "[encoded data removed]",
      "text/plain": [
       "<Figure size 432x288 with 1 Axes>"
      ]
     },
     "metadata": {},
     "output_type": "display_data"
    }
   ],
   "source": [
    "df = df[df['Province/State'].isin(['Anhui', 'Beijing', 'Chongqing'])]\n",
    "sns.boxplot(x= df['Province/State'], y = df['Confirmed'])\n",
    "plt.show()"
   ]
  },
  {
   "cell_type": "code",
   "execution_count": 15,
   "metadata": {},
   "outputs": [
    {
     "data": {
      "image/png": "[encoded data removed]",
      "text/plain": [
       "<Figure size 432x288 with 1 Axes>"
      ]
     },
     "metadata": {},
     "output_type": "display_data"
    }
   ],
   "source": [
    "df = df[df['Province/State'].isin(['Anhui', 'Beijing', 'Chongqing'])]\n",
    "sns.boxplot(x= df['Province/State'], y = df['Recovered'])\n",
    "plt.show()"
   ]
  },
  {
   "cell_type": "code",
   "execution_count": 16,
   "metadata": {},
   "outputs": [
    {
     "data": {
      "image/png": "[encoded data removed]",
      "text/plain": [
       "<Figure size 432x288 with 1 Axes>"
      ]
     },
     "metadata": {},
     "output_type": "display_data"
    }
   ],
   "source": [
    "df = df[df['Province/State'].isin(['Anhui', 'Beijing', 'Chongqing'])]\n",
    "sns.boxplot(x= df['Province/State'], y = df['Deaths'])\n",
    "plt.show()"
   ]
  },
  {
   "cell_type": "code",
   "execution_count": null,
   "metadata": {},
   "outputs": [],
   "source": []
  }
 ],
 "metadata": {
  "kernelspec": {
   "display_name": "Python 3",
   "language": "python",
   "name": "python3"
  },
  "language_info": {
   "codemirror_mode": {
    "name": "ipython",
    "version": 3
   },
   "file_extension": ".py",
   "mimetype": "text/x-python",
   "name": "python",
   "nbconvert_exporter": "python",
   "pygments_lexer": "ipython3",
   "version": "3.7.3"
  }
 },
 "nbformat": 4,
 "nbformat_minor": 4
}
